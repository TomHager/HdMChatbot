{
 "cells": [
  {
   "cell_type": "code",
   "execution_count": 1,
   "metadata": {},
   "outputs": [],
   "source": [
    "import dialogflow_v2 as df"
   ]
  },
  {
   "cell_type": "code",
   "execution_count": 2,
   "metadata": {},
   "outputs": [],
   "source": [
    "PROJECT_ID = \"test-agent-c6043\"\n",
    "SESSION_ID = \"12345\"\n",
    "LANG = \"en\"\n",
    "TEXT = \"I have an issue\""
   ]
  },
  {
   "cell_type": "markdown",
   "metadata": {},
   "source": [
    "Returns the result of detect intent with texts as inputs.\n",
    "\n",
    "Using the same `session_id` between requests allows continuation\n",
    "of the conversaion."
   ]
  },
  {
   "cell_type": "code",
   "execution_count": 3,
   "metadata": {
    "scrolled": false
   },
   "outputs": [
    {
     "name": "stdout",
     "output_type": "stream",
     "text": [
      "Session path: projects/test-agent-c6043/agent/sessions/12345\n",
      "\n"
     ]
    }
   ],
   "source": [
    "session_client = df.SessionsClient.from_service_account_json('/Users/Dani/Documents/test-agent-c6043-d63700b50f93.json')\n",
    "session = session_client.session_path(PROJECT_ID, SESSION_ID)\n",
    "print('Session path: {}\\n'.format(session))"
   ]
  },
  {
   "cell_type": "code",
   "execution_count": 4,
   "metadata": {},
   "outputs": [],
   "source": [
    "text_input = df.types.TextInput(\n",
    "            text=TEXT, language_code=LANG)\n",
    "query_input = df.types.QueryInput(text=text_input)\n",
    "response = session_client.detect_intent(\n",
    "            session=session, query_input=query_input)"
   ]
  },
  {
   "cell_type": "code",
   "execution_count": 5,
   "metadata": {},
   "outputs": [
    {
     "name": "stdout",
     "output_type": "stream",
     "text": [
      "====================\n",
      "Query text: I have an issue\n",
      "Detected intent: submit_ticket_intent (confidence: 1.0)\n",
      "\n",
      "Fulfillment text: Sure! I can help you with that. Please provide your name for the ticket.\n",
      "\n"
     ]
    }
   ],
   "source": [
    "print('=' * 20)\n",
    "print('Query text: {}'.format(response.query_result.query_text))\n",
    "print('Detected intent: {} (confidence: {})\\n'.format(\n",
    "    response.query_result.intent.display_name,\n",
    "    response.query_result.intent_detection_confidence))\n",
    "print('Fulfillment text: {}\\n'.format(\n",
    "    response.query_result.fulfillment_text))"
   ]
  },
  {
   "cell_type": "code",
   "execution_count": null,
   "metadata": {},
   "outputs": [],
   "source": []
  }
 ],
 "metadata": {
  "kernelspec": {
   "display_name": "Python 3",
   "language": "python",
   "name": "python3"
  },
  "language_info": {
   "codemirror_mode": {
    "name": "ipython",
    "version": 3
   },
   "file_extension": ".py",
   "mimetype": "text/x-python",
   "name": "python",
   "nbconvert_exporter": "python",
   "pygments_lexer": "ipython3",
   "version": "3.6.7"
  }
 },
 "nbformat": 4,
 "nbformat_minor": 2
}
